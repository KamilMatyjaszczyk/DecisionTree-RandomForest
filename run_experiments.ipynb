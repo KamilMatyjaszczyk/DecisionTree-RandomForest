{
 "cells": [
  {
   "cell_type": "markdown",
   "metadata": {},
   "source": [
    "# Project 1 – Decision Trees and Random Forests"
   ]
  },
  {
   "cell_type": "code",
   "execution_count": 12,
   "metadata": {
    "ExecuteTime": {
     "end_time": "2025-09-15T13:54:45.233227Z",
     "start_time": "2025-09-15T13:54:44.882043Z"
    }
   },
   "outputs": [
    {
     "name": "stdout",
     "output_type": "stream",
     "text": [
      "The autoreload extension is already loaded. To reload it, use:\n",
      "  %reload_ext autoreload\n"
     ]
    }
   ],
   "source": [
    "# Reload all modules without having to restart the kernel\n",
    "# Useful for development if you have edited any of the external code files.\n",
    "%load_ext autoreload\n",
    "%autoreload 2\n",
    "\n",
    "# Imports\n",
    "import numpy as np\n",
    "import pandas as pd\n",
    "from sklearn.tree import DecisionTreeClassifier\n",
    "from sklearn.ensemble import RandomForestClassifier\n",
    "from sklearn.model_selection import train_test_split\n",
    "from sklearn.metrics import accuracy_score\n",
    "from decision_tree import DecisionTree\n",
    "from random_forest import RandomForest"
   ]
  },
  {
   "cell_type": "markdown",
   "metadata": {},
   "source": [
    "## Dataset\n",
    "\n",
    "Do data loading, exploration and preprocessing as you see fit.\n",
    "\n",
    "Here is some code to load the dataset to get you started."
   ]
  },
  {
   "cell_type": "code",
   "execution_count": 13,
   "metadata": {
    "ExecuteTime": {
     "end_time": "2025-09-15T13:54:45.320876Z",
     "start_time": "2025-09-15T13:54:45.234443Z"
    }
   },
   "outputs": [
    {
     "name": "stdout",
     "output_type": "stream",
     "text": [
      "Feature columns names: ['xbox', 'ybox', 'width', 'high', 'onpix', 'xbar', 'ybar', 'x2bar', 'y2bar', 'xybar', 'x2ybr', 'xy2br', 'xege', 'xegvy', 'yege', 'yegvx']\n",
      "Target column name: label\n",
      "X shape: (2000, 16)\n",
      "y shape: (2000,)\n"
     ]
    }
   ],
   "source": [
    "data = np.genfromtxt(\"letters.csv\", delimiter=\",\", dtype=float, names=True)\n",
    "\n",
    "feature_names = list(data.dtype.names[:-1])\n",
    "target_name = data.dtype.names[-1]\n",
    "\n",
    "X = np.array([data[feature] for feature in feature_names]).T\n",
    "y = data[target_name].astype(int)\n",
    "\n",
    "print(f\"Feature columns names: {feature_names}\")\n",
    "print(f\"Target column name: {target_name}\")\n",
    "print(f\"X shape: {X.shape}\")\n",
    "print(f\"y shape: {y.shape}\")"
   ]
  },
  {
   "cell_type": "code",
   "execution_count": 14,
   "metadata": {
    "ExecuteTime": {
     "end_time": "2025-09-15T13:54:45.380936Z",
     "start_time": "2025-09-15T13:54:45.321532Z"
    }
   },
   "outputs": [],
   "source": [
    "X_train, X_test, y_train, y_test = train_test_split(\n",
    "    X, y, test_size=0.3, random_state=42, shuffle=True\n",
    ")"
   ]
  },
  {
   "cell_type": "code",
   "outputs": [
    {
     "name": "stdout",
     "output_type": "stream",
     "text": [
      "DecisionTree Test Accuracy: 0.8916666666666667\n"
     ]
    }
   ],
   "source": [
    "dt = DecisionTree(max_depth=10, criterion=\"entropy\")\n",
    "dt.fit(X_train, y_train)\n",
    "y_pred_dt = dt.predict(X_test)\n",
    "accuracy_dt = accuracy_score(y_test, y_pred_dt)\n",
    "print(\"DecisionTree Test Accuracy:\", accuracy_dt)"
   ],
   "metadata": {
    "collapsed": false,
    "ExecuteTime": {
     "end_time": "2025-09-15T13:54:45.643593Z",
     "start_time": "2025-09-15T13:54:45.382065Z"
    }
   },
   "execution_count": 15
  },
  {
   "cell_type": "code",
   "outputs": [
    {
     "name": "stdout",
     "output_type": "stream",
     "text": [
      "RandomForest Test Accuracy: 0.9466666666666667\n"
     ]
    }
   ],
   "source": [
    "rf = RandomForest(n_estimators=20, max_depth=10, criterion=\"entropy\", max_features=\"sqrt\")\n",
    "rf.fit(X_train, y_train)\n",
    "\n",
    "y_pred_rf = rf.predict(X_test)\n",
    "accuracy_rf = accuracy_score(y_test, y_pred_rf)\n",
    "print(\"RandomForest Test Accuracy:\", accuracy_rf)\n"
   ],
   "metadata": {
    "collapsed": false,
    "ExecuteTime": {
     "end_time": "2025-09-15T13:54:46.840808Z",
     "start_time": "2025-09-15T13:54:45.644374Z"
    }
   },
   "execution_count": 16
  },
  {
   "cell_type": "code",
   "outputs": [
    {
     "name": "stdout",
     "output_type": "stream",
     "text": [
      "✅ RandomForest outperformed DecisionTree\n"
     ]
    }
   ],
   "source": [
    "if accuracy_rf > accuracy_dt:\n",
    "    print(\"✅ RandomForest outperformed DecisionTree\")\n",
    "else:\n",
    "    print(\"⚠️ DecisionTree performed as good or better\")"
   ],
   "metadata": {
    "collapsed": false,
    "ExecuteTime": {
     "end_time": "2025-09-15T13:54:46.903236Z",
     "start_time": "2025-09-15T13:54:46.841557Z"
    }
   },
   "execution_count": 17
  },
  {
   "cell_type": "code",
   "outputs": [
    {
     "name": "stdout",
     "output_type": "stream",
     "text": [
      "Sklearn DecisionTree Accuracy: 0.9\n",
      "Sklearn RandomForest Accuracy: 0.9483333333333334\n"
     ]
    }
   ],
   "source": [
    "sk_dt = DecisionTreeClassifier(max_depth=10, criterion=\"entropy\", random_state=42)\n",
    "sk_dt.fit(X_train, y_train)\n",
    "y_pred_sk_dt = sk_dt.predict(X_test)\n",
    "accuracy_sk_dt = accuracy_score(y_test, y_pred_sk_dt)\n",
    "\n",
    "sk_rf = RandomForestClassifier(\n",
    "    n_estimators=20, max_depth=10, criterion=\"entropy\", max_features=\"sqrt\", random_state=42\n",
    ")\n",
    "sk_rf.fit(X_train, y_train)\n",
    "y_pred_sk_rf = sk_rf.predict(X_test)\n",
    "accuracy_sk_rf = accuracy_score(y_test, y_pred_sk_rf)\n",
    "\n",
    "print(\"Sklearn DecisionTree Accuracy:\", accuracy_sk_dt)\n",
    "print(\"Sklearn RandomForest Accuracy:\", accuracy_sk_rf)"
   ],
   "metadata": {
    "collapsed": false,
    "ExecuteTime": {
     "end_time": "2025-09-15T13:54:47.004685Z",
     "start_time": "2025-09-15T13:54:46.904489Z"
    }
   },
   "execution_count": 18
  },
  {
   "cell_type": "code",
   "outputs": [
    {
     "name": "stdout",
     "output_type": "stream",
     "text": [
      "                   Model  Accuracy\n",
      "0  Homemade DecisionTree  0.891667\n",
      "1  Homemade RandomForest  0.946667\n",
      "2   Sklearn DecisionTree  0.900000\n",
      "3   Sklearn RandomForest  0.948333\n"
     ]
    }
   ],
   "source": [
    "results = pd.DataFrame({\n",
    "    \"Model\": [\n",
    "        \"Homemade DecisionTree\", \"Homemade RandomForest\",\n",
    "        \"Sklearn DecisionTree\", \"Sklearn RandomForest\"\n",
    "    ],\n",
    "    \"Accuracy\": [accuracy_dt, accuracy_rf, accuracy_sk_dt, accuracy_sk_rf]\n",
    "})\n",
    "\n",
    "print(results)"
   ],
   "metadata": {
    "collapsed": false,
    "ExecuteTime": {
     "end_time": "2025-09-15T13:54:47.067794Z",
     "start_time": "2025-09-15T13:54:47.005507Z"
    }
   },
   "execution_count": 19
  }
 ],
 "metadata": {
  "kernelspec": {
   "display_name": "INF264",
   "language": "python",
   "name": "python3"
  },
  "language_info": {
   "codemirror_mode": {
    "name": "ipython",
    "version": 3
   },
   "file_extension": ".py",
   "mimetype": "text/x-python",
   "name": "python",
   "nbconvert_exporter": "python",
   "pygments_lexer": "ipython3",
   "version": "3.12.3"
  }
 },
 "nbformat": 4,
 "nbformat_minor": 2
}
