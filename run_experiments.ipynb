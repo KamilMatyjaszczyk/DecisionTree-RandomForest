{
 "cells": [
  {
   "cell_type": "markdown",
   "metadata": {},
   "source": [
    "# Project 1 – Decision Trees and Random Forests"
   ]
  },
  {
   "cell_type": "code",
   "execution_count": 13,
   "metadata": {
    "ExecuteTime": {
     "end_time": "2025-09-15T22:59:08.062632Z",
     "start_time": "2025-09-15T22:59:07.372540Z"
    }
   },
   "outputs": [
    {
     "name": "stdout",
     "output_type": "stream",
     "text": [
      "The autoreload extension is already loaded. To reload it, use:\n",
      "  %reload_ext autoreload\n"
     ]
    }
   ],
   "source": [
    "# Reload all modules without having to restart the kernel\n",
    "# Useful for development if you have edited any of the external code files.\n",
    "%load_ext autoreload\n",
    "%autoreload 2\n",
    "\n",
    "# Imports\n",
    "import numpy as np\n",
    "import matplotlib.pyplot as plt\n",
    "from sklearn.tree import DecisionTreeClassifier\n",
    "from sklearn.ensemble import RandomForestClassifier\n",
    "from sklearn.model_selection import train_test_split\n",
    "from sklearn.metrics import accuracy_score\n",
    "from decision_tree import DecisionTree\n",
    "from random_forest import RandomForest\n",
    "from sklearn.model_selection import KFold"
   ]
  },
  {
   "cell_type": "markdown",
   "metadata": {},
   "source": [
    "## Dataset\n",
    "\n",
    "Do data loading, exploration and preprocessing as you see fit.\n",
    "\n",
    "Here is some code to load the dataset to get you started."
   ]
  },
  {
   "cell_type": "code",
   "execution_count": 2,
   "metadata": {
    "ExecuteTime": {
     "end_time": "2025-09-15T22:17:43.558425Z",
     "start_time": "2025-09-15T22:17:43.260823Z"
    }
   },
   "outputs": [
    {
     "name": "stdout",
     "output_type": "stream",
     "text": [
      "Feature columns names: ['xbox', 'ybox', 'width', 'high', 'onpix', 'xbar', 'ybar', 'x2bar', 'y2bar', 'xybar', 'x2ybr', 'xy2br', 'xege', 'xegvy', 'yege', 'yegvx']\n",
      "Target column name: label\n",
      "X shape: (2000, 16)\n",
      "y shape: (2000,)\n"
     ]
    }
   ],
   "source": [
    "data = np.genfromtxt(\"letters.csv\", delimiter=\",\", dtype=float, names=True)\n",
    "\n",
    "feature_names = list(data.dtype.names[:-1])\n",
    "target_name = data.dtype.names[-1]\n",
    "\n",
    "X = np.array([data[feature] for feature in feature_names]).T\n",
    "y = data[target_name].astype(int)\n",
    "\n",
    "print(f\"Feature columns names: {feature_names}\")\n",
    "print(f\"Target column name: {target_name}\")\n",
    "print(f\"X shape: {X.shape}\")\n",
    "print(f\"y shape: {y.shape}\")"
   ]
  },
  {
   "cell_type": "code",
   "outputs": [],
   "source": [
    "X_train, X_test, y_train, y_test = train_test_split(\n",
    "    X, y, test_size=0.2, random_state=42, shuffle=True\n",
    ")"
   ],
   "metadata": {
    "collapsed": false,
    "ExecuteTime": {
     "end_time": "2025-09-15T22:17:43.620168Z",
     "start_time": "2025-09-15T22:17:43.559527Z"
    }
   },
   "execution_count": 3
  },
  {
   "cell_type": "code",
   "execution_count": 4,
   "metadata": {
    "ExecuteTime": {
     "end_time": "2025-09-15T22:17:43.680088Z",
     "start_time": "2025-09-15T22:17:43.621088Z"
    }
   },
   "outputs": [],
   "source": [
    "def kfold_search(model_class, X, y, param_grid, k):\n",
    "    \"\"\"\n",
    "    Runs k-fold cross validation for a given model class and parameter grid.\n",
    "\n",
    "    Parameters:\n",
    "    model_class: DecisionTree or RandomForest\n",
    "    X, y: dataset\n",
    "    param_grid: list of hyperparameters\n",
    "    k: number of folds\n",
    "\n",
    "    Returns:\n",
    "    best_params, best_score\n",
    "    \"\"\"\n",
    "    best_score, best_params = 0, None\n",
    "    kf = KFold(n_splits=k, shuffle=True, random_state=42)\n",
    "\n",
    "    for params in param_grid:\n",
    "        scores = []\n",
    "\n",
    "        for train_index, val_index in kf.split(X):\n",
    "            X_train_k, X_val = X[train_index], X[val_index]\n",
    "            y_train_k, y_val = y[train_index], y[val_index]\n",
    "\n",
    "            model = model_class(**params)\n",
    "            model.fit(X_train_k, y_train_k)\n",
    "            y_pred = model.predict(X_val)\n",
    "            acc = accuracy_score(y_val, y_pred)\n",
    "            scores.append(acc)\n",
    "            \n",
    "\n",
    "        mean_acc, std = np.mean(scores), np.std(scores)\n",
    "    \n",
    "        print(f\"{model_class.__name__}, params={params}, acc={mean_acc:.3f}, std={std:.3f}\")\n",
    "        \n",
    "        score = mean_acc - std\n",
    "        if score > best_score:\n",
    "            best_score, best_params = score, params\n",
    "\n",
    "    return best_params, best_score"
   ]
  },
  {
   "cell_type": "code",
   "outputs": [
    {
     "name": "stdout",
     "output_type": "stream",
     "text": [
      "DecisionTree, params={'max_depth': 5, 'criterion': 'entropy'}, acc=0.804, std=0.019\n",
      "DecisionTree, params={'max_depth': 5, 'criterion': 'gini'}, acc=0.817, std=0.012\n",
      "DecisionTree, params={'max_depth': 10, 'criterion': 'entropy'}, acc=0.892, std=0.023\n",
      "DecisionTree, params={'max_depth': 10, 'criterion': 'gini'}, acc=0.890, std=0.014\n",
      "DecisionTree, params={'max_depth': 15, 'criterion': 'entropy'}, acc=0.892, std=0.018\n",
      "DecisionTree, params={'max_depth': 15, 'criterion': 'gini'}, acc=0.884, std=0.012\n",
      "DecisionTree, params={'max_depth': 20, 'criterion': 'entropy'}, acc=0.884, std=0.018\n",
      "DecisionTree, params={'max_depth': 20, 'criterion': 'gini'}, acc=0.884, std=0.015\n",
      "DecisionTree, params={'max_depth': None, 'criterion': 'entropy'}, acc=0.887, std=0.015\n",
      "DecisionTree, params={'max_depth': None, 'criterion': 'gini'}, acc=0.890, std=0.022\n",
      "\n",
      "Best DecisionTree params: {'max_depth': 10, 'criterion': 'gini'}, acc=0.876\n",
      "RandomForest, params={'max_depth': 5, 'criterion': 'entropy', 'n_estimators': 10, 'max_features': 'sqrt'}, acc=0.851, std=0.024\n",
      "RandomForest, params={'max_depth': 5, 'criterion': 'entropy', 'n_estimators': 10, 'max_features': 'log2'}, acc=0.853, std=0.024\n",
      "RandomForest, params={'max_depth': 5, 'criterion': 'entropy', 'n_estimators': 10, 'max_features': None}, acc=0.846, std=0.013\n",
      "RandomForest, params={'max_depth': 5, 'criterion': 'entropy', 'n_estimators': 20, 'max_features': 'sqrt'}, acc=0.883, std=0.011\n",
      "RandomForest, params={'max_depth': 5, 'criterion': 'entropy', 'n_estimators': 20, 'max_features': 'log2'}, acc=0.876, std=0.008\n",
      "RandomForest, params={'max_depth': 5, 'criterion': 'entropy', 'n_estimators': 20, 'max_features': None}, acc=0.859, std=0.013\n",
      "RandomForest, params={'max_depth': 5, 'criterion': 'entropy', 'n_estimators': 50, 'max_features': 'sqrt'}, acc=0.892, std=0.012\n",
      "RandomForest, params={'max_depth': 5, 'criterion': 'entropy', 'n_estimators': 50, 'max_features': 'log2'}, acc=0.895, std=0.006\n",
      "RandomForest, params={'max_depth': 5, 'criterion': 'entropy', 'n_estimators': 50, 'max_features': None}, acc=0.854, std=0.014\n",
      "RandomForest, params={'max_depth': 5, 'criterion': 'entropy', 'n_estimators': 100, 'max_features': 'sqrt'}, acc=0.887, std=0.009\n",
      "RandomForest, params={'max_depth': 5, 'criterion': 'entropy', 'n_estimators': 100, 'max_features': 'log2'}, acc=0.893, std=0.008\n",
      "RandomForest, params={'max_depth': 5, 'criterion': 'entropy', 'n_estimators': 100, 'max_features': None}, acc=0.863, std=0.020\n",
      "RandomForest, params={'max_depth': 5, 'criterion': 'gini', 'n_estimators': 10, 'max_features': 'sqrt'}, acc=0.847, std=0.021\n",
      "RandomForest, params={'max_depth': 5, 'criterion': 'gini', 'n_estimators': 10, 'max_features': 'log2'}, acc=0.867, std=0.010\n",
      "RandomForest, params={'max_depth': 5, 'criterion': 'gini', 'n_estimators': 10, 'max_features': None}, acc=0.849, std=0.023\n",
      "RandomForest, params={'max_depth': 5, 'criterion': 'gini', 'n_estimators': 20, 'max_features': 'sqrt'}, acc=0.871, std=0.013\n",
      "RandomForest, params={'max_depth': 5, 'criterion': 'gini', 'n_estimators': 20, 'max_features': 'log2'}, acc=0.874, std=0.013\n",
      "RandomForest, params={'max_depth': 5, 'criterion': 'gini', 'n_estimators': 20, 'max_features': None}, acc=0.851, std=0.015\n",
      "RandomForest, params={'max_depth': 5, 'criterion': 'gini', 'n_estimators': 50, 'max_features': 'sqrt'}, acc=0.891, std=0.008\n",
      "RandomForest, params={'max_depth': 5, 'criterion': 'gini', 'n_estimators': 50, 'max_features': 'log2'}, acc=0.881, std=0.004\n",
      "RandomForest, params={'max_depth': 5, 'criterion': 'gini', 'n_estimators': 50, 'max_features': None}, acc=0.841, std=0.016\n",
      "RandomForest, params={'max_depth': 5, 'criterion': 'gini', 'n_estimators': 100, 'max_features': 'sqrt'}, acc=0.889, std=0.012\n",
      "RandomForest, params={'max_depth': 5, 'criterion': 'gini', 'n_estimators': 100, 'max_features': 'log2'}, acc=0.892, std=0.008\n",
      "RandomForest, params={'max_depth': 5, 'criterion': 'gini', 'n_estimators': 100, 'max_features': None}, acc=0.843, std=0.018\n",
      "RandomForest, params={'max_depth': 10, 'criterion': 'entropy', 'n_estimators': 10, 'max_features': 'sqrt'}, acc=0.934, std=0.012\n",
      "RandomForest, params={'max_depth': 10, 'criterion': 'entropy', 'n_estimators': 10, 'max_features': 'log2'}, acc=0.935, std=0.010\n",
      "RandomForest, params={'max_depth': 10, 'criterion': 'entropy', 'n_estimators': 10, 'max_features': None}, acc=0.931, std=0.014\n",
      "RandomForest, params={'max_depth': 10, 'criterion': 'entropy', 'n_estimators': 20, 'max_features': 'sqrt'}, acc=0.948, std=0.008\n",
      "RandomForest, params={'max_depth': 10, 'criterion': 'entropy', 'n_estimators': 20, 'max_features': 'log2'}, acc=0.954, std=0.006\n",
      "RandomForest, params={'max_depth': 10, 'criterion': 'entropy', 'n_estimators': 20, 'max_features': None}, acc=0.936, std=0.010\n",
      "RandomForest, params={'max_depth': 10, 'criterion': 'entropy', 'n_estimators': 50, 'max_features': 'sqrt'}, acc=0.966, std=0.006\n",
      "RandomForest, params={'max_depth': 10, 'criterion': 'entropy', 'n_estimators': 50, 'max_features': 'log2'}, acc=0.958, std=0.009\n",
      "RandomForest, params={'max_depth': 10, 'criterion': 'entropy', 'n_estimators': 50, 'max_features': None}, acc=0.943, std=0.008\n",
      "RandomForest, params={'max_depth': 10, 'criterion': 'entropy', 'n_estimators': 100, 'max_features': 'sqrt'}, acc=0.959, std=0.007\n",
      "RandomForest, params={'max_depth': 10, 'criterion': 'entropy', 'n_estimators': 100, 'max_features': 'log2'}, acc=0.964, std=0.008\n",
      "RandomForest, params={'max_depth': 10, 'criterion': 'entropy', 'n_estimators': 100, 'max_features': None}, acc=0.941, std=0.012\n",
      "RandomForest, params={'max_depth': 10, 'criterion': 'gini', 'n_estimators': 10, 'max_features': 'sqrt'}, acc=0.932, std=0.016\n",
      "RandomForest, params={'max_depth': 10, 'criterion': 'gini', 'n_estimators': 10, 'max_features': 'log2'}, acc=0.938, std=0.017\n",
      "RandomForest, params={'max_depth': 10, 'criterion': 'gini', 'n_estimators': 10, 'max_features': None}, acc=0.928, std=0.008\n",
      "RandomForest, params={'max_depth': 10, 'criterion': 'gini', 'n_estimators': 20, 'max_features': 'sqrt'}, acc=0.951, std=0.011\n",
      "RandomForest, params={'max_depth': 10, 'criterion': 'gini', 'n_estimators': 20, 'max_features': 'log2'}, acc=0.948, std=0.006\n",
      "RandomForest, params={'max_depth': 10, 'criterion': 'gini', 'n_estimators': 20, 'max_features': None}, acc=0.934, std=0.011\n",
      "RandomForest, params={'max_depth': 10, 'criterion': 'gini', 'n_estimators': 50, 'max_features': 'sqrt'}, acc=0.961, std=0.009\n",
      "RandomForest, params={'max_depth': 10, 'criterion': 'gini', 'n_estimators': 50, 'max_features': 'log2'}, acc=0.961, std=0.009\n",
      "RandomForest, params={'max_depth': 10, 'criterion': 'gini', 'n_estimators': 50, 'max_features': None}, acc=0.937, std=0.013\n",
      "RandomForest, params={'max_depth': 10, 'criterion': 'gini', 'n_estimators': 100, 'max_features': 'sqrt'}, acc=0.965, std=0.008\n",
      "RandomForest, params={'max_depth': 10, 'criterion': 'gini', 'n_estimators': 100, 'max_features': 'log2'}, acc=0.964, std=0.012\n",
      "RandomForest, params={'max_depth': 10, 'criterion': 'gini', 'n_estimators': 100, 'max_features': None}, acc=0.939, std=0.012\n",
      "RandomForest, params={'max_depth': 15, 'criterion': 'entropy', 'n_estimators': 10, 'max_features': 'sqrt'}, acc=0.936, std=0.007\n",
      "RandomForest, params={'max_depth': 15, 'criterion': 'entropy', 'n_estimators': 10, 'max_features': 'log2'}, acc=0.932, std=0.006\n",
      "RandomForest, params={'max_depth': 15, 'criterion': 'entropy', 'n_estimators': 10, 'max_features': None}, acc=0.922, std=0.011\n",
      "RandomForest, params={'max_depth': 15, 'criterion': 'entropy', 'n_estimators': 20, 'max_features': 'sqrt'}, acc=0.948, std=0.005\n",
      "RandomForest, params={'max_depth': 15, 'criterion': 'entropy', 'n_estimators': 20, 'max_features': 'log2'}, acc=0.957, std=0.003\n",
      "RandomForest, params={'max_depth': 15, 'criterion': 'entropy', 'n_estimators': 20, 'max_features': None}, acc=0.938, std=0.014\n",
      "RandomForest, params={'max_depth': 15, 'criterion': 'entropy', 'n_estimators': 50, 'max_features': 'sqrt'}, acc=0.959, std=0.012\n",
      "RandomForest, params={'max_depth': 15, 'criterion': 'entropy', 'n_estimators': 50, 'max_features': 'log2'}, acc=0.963, std=0.007\n",
      "RandomForest, params={'max_depth': 15, 'criterion': 'entropy', 'n_estimators': 50, 'max_features': None}, acc=0.940, std=0.014\n",
      "RandomForest, params={'max_depth': 15, 'criterion': 'entropy', 'n_estimators': 100, 'max_features': 'sqrt'}, acc=0.965, std=0.008\n",
      "RandomForest, params={'max_depth': 15, 'criterion': 'entropy', 'n_estimators': 100, 'max_features': 'log2'}, acc=0.966, std=0.009\n",
      "RandomForest, params={'max_depth': 15, 'criterion': 'entropy', 'n_estimators': 100, 'max_features': None}, acc=0.941, std=0.015\n",
      "RandomForest, params={'max_depth': 15, 'criterion': 'gini', 'n_estimators': 10, 'max_features': 'sqrt'}, acc=0.938, std=0.014\n",
      "RandomForest, params={'max_depth': 15, 'criterion': 'gini', 'n_estimators': 10, 'max_features': 'log2'}, acc=0.940, std=0.008\n",
      "RandomForest, params={'max_depth': 15, 'criterion': 'gini', 'n_estimators': 10, 'max_features': None}, acc=0.924, std=0.005\n",
      "RandomForest, params={'max_depth': 15, 'criterion': 'gini', 'n_estimators': 20, 'max_features': 'sqrt'}, acc=0.960, std=0.007\n",
      "RandomForest, params={'max_depth': 15, 'criterion': 'gini', 'n_estimators': 20, 'max_features': 'log2'}, acc=0.948, std=0.005\n",
      "RandomForest, params={'max_depth': 15, 'criterion': 'gini', 'n_estimators': 20, 'max_features': None}, acc=0.930, std=0.009\n",
      "RandomForest, params={'max_depth': 15, 'criterion': 'gini', 'n_estimators': 50, 'max_features': 'sqrt'}, acc=0.959, std=0.004\n",
      "RandomForest, params={'max_depth': 15, 'criterion': 'gini', 'n_estimators': 50, 'max_features': 'log2'}, acc=0.963, std=0.009\n",
      "RandomForest, params={'max_depth': 15, 'criterion': 'gini', 'n_estimators': 50, 'max_features': None}, acc=0.940, std=0.013\n",
      "RandomForest, params={'max_depth': 15, 'criterion': 'gini', 'n_estimators': 100, 'max_features': 'sqrt'}, acc=0.966, std=0.009\n",
      "RandomForest, params={'max_depth': 15, 'criterion': 'gini', 'n_estimators': 100, 'max_features': 'log2'}, acc=0.967, std=0.008\n",
      "RandomForest, params={'max_depth': 15, 'criterion': 'gini', 'n_estimators': 100, 'max_features': None}, acc=0.943, std=0.011\n",
      "RandomForest, params={'max_depth': 20, 'criterion': 'entropy', 'n_estimators': 10, 'max_features': 'sqrt'}, acc=0.935, std=0.013\n",
      "RandomForest, params={'max_depth': 20, 'criterion': 'entropy', 'n_estimators': 10, 'max_features': 'log2'}, acc=0.940, std=0.008\n",
      "RandomForest, params={'max_depth': 20, 'criterion': 'entropy', 'n_estimators': 10, 'max_features': None}, acc=0.927, std=0.016\n",
      "RandomForest, params={'max_depth': 20, 'criterion': 'entropy', 'n_estimators': 20, 'max_features': 'sqrt'}, acc=0.954, std=0.007\n",
      "RandomForest, params={'max_depth': 20, 'criterion': 'entropy', 'n_estimators': 20, 'max_features': 'log2'}, acc=0.952, std=0.005\n",
      "RandomForest, params={'max_depth': 20, 'criterion': 'entropy', 'n_estimators': 20, 'max_features': None}, acc=0.932, std=0.015\n",
      "RandomForest, params={'max_depth': 20, 'criterion': 'entropy', 'n_estimators': 50, 'max_features': 'sqrt'}, acc=0.965, std=0.008\n",
      "RandomForest, params={'max_depth': 20, 'criterion': 'entropy', 'n_estimators': 50, 'max_features': 'log2'}, acc=0.960, std=0.010\n",
      "RandomForest, params={'max_depth': 20, 'criterion': 'entropy', 'n_estimators': 50, 'max_features': None}, acc=0.935, std=0.013\n",
      "RandomForest, params={'max_depth': 20, 'criterion': 'entropy', 'n_estimators': 100, 'max_features': 'sqrt'}, acc=0.969, std=0.008\n",
      "RandomForest, params={'max_depth': 20, 'criterion': 'entropy', 'n_estimators': 100, 'max_features': 'log2'}, acc=0.965, std=0.006\n",
      "RandomForest, params={'max_depth': 20, 'criterion': 'entropy', 'n_estimators': 100, 'max_features': None}, acc=0.941, std=0.011\n",
      "RandomForest, params={'max_depth': 20, 'criterion': 'gini', 'n_estimators': 10, 'max_features': 'sqrt'}, acc=0.944, std=0.011\n",
      "RandomForest, params={'max_depth': 20, 'criterion': 'gini', 'n_estimators': 10, 'max_features': 'log2'}, acc=0.943, std=0.007\n",
      "RandomForest, params={'max_depth': 20, 'criterion': 'gini', 'n_estimators': 10, 'max_features': None}, acc=0.920, std=0.013\n",
      "RandomForest, params={'max_depth': 20, 'criterion': 'gini', 'n_estimators': 20, 'max_features': 'sqrt'}, acc=0.956, std=0.007\n",
      "RandomForest, params={'max_depth': 20, 'criterion': 'gini', 'n_estimators': 20, 'max_features': 'log2'}, acc=0.951, std=0.011\n",
      "RandomForest, params={'max_depth': 20, 'criterion': 'gini', 'n_estimators': 20, 'max_features': None}, acc=0.934, std=0.008\n",
      "RandomForest, params={'max_depth': 20, 'criterion': 'gini', 'n_estimators': 50, 'max_features': 'sqrt'}, acc=0.961, std=0.008\n",
      "RandomForest, params={'max_depth': 20, 'criterion': 'gini', 'n_estimators': 50, 'max_features': 'log2'}, acc=0.962, std=0.010\n",
      "RandomForest, params={'max_depth': 20, 'criterion': 'gini', 'n_estimators': 50, 'max_features': None}, acc=0.934, std=0.013\n",
      "RandomForest, params={'max_depth': 20, 'criterion': 'gini', 'n_estimators': 100, 'max_features': 'sqrt'}, acc=0.966, std=0.008\n",
      "RandomForest, params={'max_depth': 20, 'criterion': 'gini', 'n_estimators': 100, 'max_features': 'log2'}, acc=0.963, std=0.010\n",
      "RandomForest, params={'max_depth': 20, 'criterion': 'gini', 'n_estimators': 100, 'max_features': None}, acc=0.941, std=0.009\n",
      "RandomForest, params={'max_depth': None, 'criterion': 'entropy', 'n_estimators': 10, 'max_features': 'sqrt'}, acc=0.936, std=0.012\n",
      "RandomForest, params={'max_depth': None, 'criterion': 'entropy', 'n_estimators': 10, 'max_features': 'log2'}, acc=0.941, std=0.006\n",
      "RandomForest, params={'max_depth': None, 'criterion': 'entropy', 'n_estimators': 10, 'max_features': None}, acc=0.933, std=0.011\n",
      "RandomForest, params={'max_depth': None, 'criterion': 'entropy', 'n_estimators': 20, 'max_features': 'sqrt'}, acc=0.955, std=0.014\n",
      "RandomForest, params={'max_depth': None, 'criterion': 'entropy', 'n_estimators': 20, 'max_features': 'log2'}, acc=0.952, std=0.004\n",
      "RandomForest, params={'max_depth': None, 'criterion': 'entropy', 'n_estimators': 20, 'max_features': None}, acc=0.926, std=0.010\n",
      "RandomForest, params={'max_depth': None, 'criterion': 'entropy', 'n_estimators': 50, 'max_features': 'sqrt'}, acc=0.966, std=0.008\n",
      "RandomForest, params={'max_depth': None, 'criterion': 'entropy', 'n_estimators': 50, 'max_features': 'log2'}, acc=0.961, std=0.010\n",
      "RandomForest, params={'max_depth': None, 'criterion': 'entropy', 'n_estimators': 50, 'max_features': None}, acc=0.935, std=0.013\n",
      "RandomForest, params={'max_depth': None, 'criterion': 'entropy', 'n_estimators': 100, 'max_features': 'sqrt'}, acc=0.963, std=0.007\n",
      "RandomForest, params={'max_depth': None, 'criterion': 'entropy', 'n_estimators': 100, 'max_features': 'log2'}, acc=0.960, std=0.010\n",
      "RandomForest, params={'max_depth': None, 'criterion': 'entropy', 'n_estimators': 100, 'max_features': None}, acc=0.939, std=0.009\n",
      "RandomForest, params={'max_depth': None, 'criterion': 'gini', 'n_estimators': 10, 'max_features': 'sqrt'}, acc=0.941, std=0.009\n",
      "RandomForest, params={'max_depth': None, 'criterion': 'gini', 'n_estimators': 10, 'max_features': 'log2'}, acc=0.949, std=0.014\n",
      "RandomForest, params={'max_depth': None, 'criterion': 'gini', 'n_estimators': 10, 'max_features': None}, acc=0.927, std=0.013\n",
      "RandomForest, params={'max_depth': None, 'criterion': 'gini', 'n_estimators': 20, 'max_features': 'sqrt'}, acc=0.952, std=0.009\n",
      "RandomForest, params={'max_depth': None, 'criterion': 'gini', 'n_estimators': 20, 'max_features': 'log2'}, acc=0.954, std=0.012\n",
      "RandomForest, params={'max_depth': None, 'criterion': 'gini', 'n_estimators': 20, 'max_features': None}, acc=0.935, std=0.012\n",
      "RandomForest, params={'max_depth': None, 'criterion': 'gini', 'n_estimators': 50, 'max_features': 'sqrt'}, acc=0.963, std=0.010\n",
      "RandomForest, params={'max_depth': None, 'criterion': 'gini', 'n_estimators': 50, 'max_features': 'log2'}, acc=0.959, std=0.013\n",
      "RandomForest, params={'max_depth': None, 'criterion': 'gini', 'n_estimators': 50, 'max_features': None}, acc=0.935, std=0.012\n",
      "RandomForest, params={'max_depth': None, 'criterion': 'gini', 'n_estimators': 100, 'max_features': 'sqrt'}, acc=0.963, std=0.009\n",
      "RandomForest, params={'max_depth': None, 'criterion': 'gini', 'n_estimators': 100, 'max_features': 'log2'}, acc=0.966, std=0.008\n",
      "RandomForest, params={'max_depth': None, 'criterion': 'gini', 'n_estimators': 100, 'max_features': None}, acc=0.940, std=0.006\n",
      "\n",
      "Best RandomForest params: {'max_depth': 20, 'criterion': 'entropy', 'n_estimators': 100, 'max_features': 'sqrt'}, acc=0.961\n"
     ]
    }
   ],
   "source": [
    "depth = [5, 10, 15, 20,  None]\n",
    "criteria = [\"entropy\", \"gini\"]\n",
    "n_estimators_values = [10, 20, 50, 100]\n",
    "max_features_values = [\"sqrt\", \"log2\", None]\n",
    "\n",
    "dt_param_grid = [{\"max_depth\": d, \"criterion\": c} for d in depth for c in criteria]\n",
    "rf_param_grid = [\n",
    "    {\"max_depth\": d, \"criterion\": c, \"n_estimators\": n, \"max_features\": mf}\n",
    "    for d in depth\n",
    "    for c in criteria\n",
    "    for n in n_estimators_values\n",
    "    for mf in max_features_values\n",
    "]\n",
    "\n",
    "best_dt_params, best_dt_score = kfold_search(DecisionTree, X_train, y_train, dt_param_grid, 5)\n",
    "print(f\"\\nBest DecisionTree params: {best_dt_params}, acc={best_dt_score:.3f}\")\n",
    "\n",
    "best_rf_params, best_rf_score = kfold_search(RandomForest, X_train, y_train, rf_param_grid, 5)\n",
    "print(f\"\\nBest RandomForest params: {best_rf_params}, acc={best_rf_score:.3f}\")\n"
   ],
   "metadata": {
    "collapsed": false,
    "ExecuteTime": {
     "end_time": "2025-09-15T22:47:21.111835Z",
     "start_time": "2025-09-15T22:17:43.681422Z"
    }
   },
   "execution_count": 5
  },
  {
   "cell_type": "code",
   "outputs": [
    {
     "name": "stdout",
     "output_type": "stream",
     "text": [
      "\n",
      "--- Final Test Results ---\n",
      "DecisionTree Test Accuracy: 0.885\n",
      "RandomForest Test Accuracy: 0.963\n"
     ]
    }
   ],
   "source": [
    "final_dt = DecisionTree(**best_dt_params).fit(X_train, y_train)\n",
    "final_rf = RandomForest(**best_rf_params).fit(X_train, y_train)\n",
    "dt_test_acc = accuracy_score(y_test, final_dt.predict(X_test))\n",
    "rf_test_acc = accuracy_score(y_test, final_rf.predict(X_test))\n",
    "\n",
    "print(\"\\n--- Final Test Results ---\")\n",
    "print(f\"DecisionTree Test Accuracy: {dt_test_acc:.3f}\")\n",
    "print(f\"RandomForest Test Accuracy: {rf_test_acc:.3f}\")"
   ],
   "metadata": {
    "collapsed": false,
    "ExecuteTime": {
     "end_time": "2025-09-15T22:47:28.069787Z",
     "start_time": "2025-09-15T22:47:21.112633Z"
    }
   },
   "execution_count": 6
  },
  {
   "cell_type": "code",
   "outputs": [
    {
     "name": "stdout",
     "output_type": "stream",
     "text": [
      "DecisionTreeClassifier, params={'max_depth': 5, 'criterion': 'entropy'}, acc=0.831, std=0.024\n",
      "DecisionTreeClassifier, params={'max_depth': 5, 'criterion': 'gini'}, acc=0.816, std=0.013\n",
      "DecisionTreeClassifier, params={'max_depth': 10, 'criterion': 'entropy'}, acc=0.927, std=0.012\n",
      "DecisionTreeClassifier, params={'max_depth': 10, 'criterion': 'gini'}, acc=0.914, std=0.008\n",
      "DecisionTreeClassifier, params={'max_depth': 15, 'criterion': 'entropy'}, acc=0.925, std=0.007\n",
      "DecisionTreeClassifier, params={'max_depth': 15, 'criterion': 'gini'}, acc=0.922, std=0.011\n",
      "DecisionTreeClassifier, params={'max_depth': 20, 'criterion': 'entropy'}, acc=0.925, std=0.009\n",
      "DecisionTreeClassifier, params={'max_depth': 20, 'criterion': 'gini'}, acc=0.925, std=0.008\n",
      "DecisionTreeClassifier, params={'max_depth': None, 'criterion': 'entropy'}, acc=0.927, std=0.011\n",
      "DecisionTreeClassifier, params={'max_depth': None, 'criterion': 'gini'}, acc=0.922, std=0.007\n",
      "\n",
      "Best DecisionTree params: {'max_depth': 15, 'criterion': 'entropy'}, acc=0.918\n",
      "RandomForestClassifier, params={'max_depth': 5, 'criterion': 'entropy', 'n_estimators': 10, 'max_features': 'sqrt'}, acc=0.899, std=0.015\n",
      "RandomForestClassifier, params={'max_depth': 5, 'criterion': 'entropy', 'n_estimators': 10, 'max_features': 'log2'}, acc=0.896, std=0.021\n",
      "RandomForestClassifier, params={'max_depth': 5, 'criterion': 'entropy', 'n_estimators': 10, 'max_features': None}, acc=0.888, std=0.010\n",
      "RandomForestClassifier, params={'max_depth': 5, 'criterion': 'entropy', 'n_estimators': 20, 'max_features': 'sqrt'}, acc=0.901, std=0.012\n",
      "RandomForestClassifier, params={'max_depth': 5, 'criterion': 'entropy', 'n_estimators': 20, 'max_features': 'log2'}, acc=0.902, std=0.012\n",
      "RandomForestClassifier, params={'max_depth': 5, 'criterion': 'entropy', 'n_estimators': 20, 'max_features': None}, acc=0.896, std=0.008\n",
      "RandomForestClassifier, params={'max_depth': 5, 'criterion': 'entropy', 'n_estimators': 50, 'max_features': 'sqrt'}, acc=0.902, std=0.006\n",
      "RandomForestClassifier, params={'max_depth': 5, 'criterion': 'entropy', 'n_estimators': 50, 'max_features': 'log2'}, acc=0.901, std=0.007\n",
      "RandomForestClassifier, params={'max_depth': 5, 'criterion': 'entropy', 'n_estimators': 50, 'max_features': None}, acc=0.899, std=0.012\n",
      "RandomForestClassifier, params={'max_depth': 5, 'criterion': 'entropy', 'n_estimators': 100, 'max_features': 'sqrt'}, acc=0.907, std=0.012\n",
      "RandomForestClassifier, params={'max_depth': 5, 'criterion': 'entropy', 'n_estimators': 100, 'max_features': 'log2'}, acc=0.907, std=0.012\n",
      "RandomForestClassifier, params={'max_depth': 5, 'criterion': 'entropy', 'n_estimators': 100, 'max_features': None}, acc=0.898, std=0.005\n",
      "RandomForestClassifier, params={'max_depth': 5, 'criterion': 'gini', 'n_estimators': 10, 'max_features': 'sqrt'}, acc=0.867, std=0.014\n",
      "RandomForestClassifier, params={'max_depth': 5, 'criterion': 'gini', 'n_estimators': 10, 'max_features': 'log2'}, acc=0.874, std=0.018\n",
      "RandomForestClassifier, params={'max_depth': 5, 'criterion': 'gini', 'n_estimators': 10, 'max_features': None}, acc=0.871, std=0.022\n",
      "RandomForestClassifier, params={'max_depth': 5, 'criterion': 'gini', 'n_estimators': 20, 'max_features': 'sqrt'}, acc=0.884, std=0.017\n",
      "RandomForestClassifier, params={'max_depth': 5, 'criterion': 'gini', 'n_estimators': 20, 'max_features': 'log2'}, acc=0.883, std=0.011\n",
      "RandomForestClassifier, params={'max_depth': 5, 'criterion': 'gini', 'n_estimators': 20, 'max_features': None}, acc=0.873, std=0.009\n",
      "RandomForestClassifier, params={'max_depth': 5, 'criterion': 'gini', 'n_estimators': 50, 'max_features': 'sqrt'}, acc=0.896, std=0.009\n",
      "RandomForestClassifier, params={'max_depth': 5, 'criterion': 'gini', 'n_estimators': 50, 'max_features': 'log2'}, acc=0.891, std=0.010\n",
      "RandomForestClassifier, params={'max_depth': 5, 'criterion': 'gini', 'n_estimators': 50, 'max_features': None}, acc=0.876, std=0.014\n",
      "RandomForestClassifier, params={'max_depth': 5, 'criterion': 'gini', 'n_estimators': 100, 'max_features': 'sqrt'}, acc=0.894, std=0.012\n",
      "RandomForestClassifier, params={'max_depth': 5, 'criterion': 'gini', 'n_estimators': 100, 'max_features': 'log2'}, acc=0.899, std=0.011\n",
      "RandomForestClassifier, params={'max_depth': 5, 'criterion': 'gini', 'n_estimators': 100, 'max_features': None}, acc=0.875, std=0.012\n",
      "RandomForestClassifier, params={'max_depth': 10, 'criterion': 'entropy', 'n_estimators': 10, 'max_features': 'sqrt'}, acc=0.948, std=0.008\n",
      "RandomForestClassifier, params={'max_depth': 10, 'criterion': 'entropy', 'n_estimators': 10, 'max_features': 'log2'}, acc=0.957, std=0.007\n",
      "RandomForestClassifier, params={'max_depth': 10, 'criterion': 'entropy', 'n_estimators': 10, 'max_features': None}, acc=0.946, std=0.012\n",
      "RandomForestClassifier, params={'max_depth': 10, 'criterion': 'entropy', 'n_estimators': 20, 'max_features': 'sqrt'}, acc=0.954, std=0.010\n",
      "RandomForestClassifier, params={'max_depth': 10, 'criterion': 'entropy', 'n_estimators': 20, 'max_features': 'log2'}, acc=0.961, std=0.010\n",
      "RandomForestClassifier, params={'max_depth': 10, 'criterion': 'entropy', 'n_estimators': 20, 'max_features': None}, acc=0.948, std=0.009\n",
      "RandomForestClassifier, params={'max_depth': 10, 'criterion': 'entropy', 'n_estimators': 50, 'max_features': 'sqrt'}, acc=0.963, std=0.008\n",
      "RandomForestClassifier, params={'max_depth': 10, 'criterion': 'entropy', 'n_estimators': 50, 'max_features': 'log2'}, acc=0.961, std=0.009\n",
      "RandomForestClassifier, params={'max_depth': 10, 'criterion': 'entropy', 'n_estimators': 50, 'max_features': None}, acc=0.951, std=0.015\n",
      "RandomForestClassifier, params={'max_depth': 10, 'criterion': 'entropy', 'n_estimators': 100, 'max_features': 'sqrt'}, acc=0.963, std=0.012\n",
      "RandomForestClassifier, params={'max_depth': 10, 'criterion': 'entropy', 'n_estimators': 100, 'max_features': 'log2'}, acc=0.964, std=0.008\n",
      "RandomForestClassifier, params={'max_depth': 10, 'criterion': 'entropy', 'n_estimators': 100, 'max_features': None}, acc=0.948, std=0.016\n",
      "RandomForestClassifier, params={'max_depth': 10, 'criterion': 'gini', 'n_estimators': 10, 'max_features': 'sqrt'}, acc=0.943, std=0.007\n",
      "RandomForestClassifier, params={'max_depth': 10, 'criterion': 'gini', 'n_estimators': 10, 'max_features': 'log2'}, acc=0.946, std=0.010\n",
      "RandomForestClassifier, params={'max_depth': 10, 'criterion': 'gini', 'n_estimators': 10, 'max_features': None}, acc=0.944, std=0.007\n",
      "RandomForestClassifier, params={'max_depth': 10, 'criterion': 'gini', 'n_estimators': 20, 'max_features': 'sqrt'}, acc=0.959, std=0.008\n",
      "RandomForestClassifier, params={'max_depth': 10, 'criterion': 'gini', 'n_estimators': 20, 'max_features': 'log2'}, acc=0.956, std=0.009\n",
      "RandomForestClassifier, params={'max_depth': 10, 'criterion': 'gini', 'n_estimators': 20, 'max_features': None}, acc=0.950, std=0.010\n",
      "RandomForestClassifier, params={'max_depth': 10, 'criterion': 'gini', 'n_estimators': 50, 'max_features': 'sqrt'}, acc=0.957, std=0.006\n",
      "RandomForestClassifier, params={'max_depth': 10, 'criterion': 'gini', 'n_estimators': 50, 'max_features': 'log2'}, acc=0.961, std=0.009\n",
      "RandomForestClassifier, params={'max_depth': 10, 'criterion': 'gini', 'n_estimators': 50, 'max_features': None}, acc=0.946, std=0.008\n",
      "RandomForestClassifier, params={'max_depth': 10, 'criterion': 'gini', 'n_estimators': 100, 'max_features': 'sqrt'}, acc=0.965, std=0.005\n",
      "RandomForestClassifier, params={'max_depth': 10, 'criterion': 'gini', 'n_estimators': 100, 'max_features': 'log2'}, acc=0.965, std=0.007\n",
      "RandomForestClassifier, params={'max_depth': 10, 'criterion': 'gini', 'n_estimators': 100, 'max_features': None}, acc=0.954, std=0.011\n",
      "RandomForestClassifier, params={'max_depth': 15, 'criterion': 'entropy', 'n_estimators': 10, 'max_features': 'sqrt'}, acc=0.952, std=0.016\n",
      "RandomForestClassifier, params={'max_depth': 15, 'criterion': 'entropy', 'n_estimators': 10, 'max_features': 'log2'}, acc=0.956, std=0.010\n",
      "RandomForestClassifier, params={'max_depth': 15, 'criterion': 'entropy', 'n_estimators': 10, 'max_features': None}, acc=0.939, std=0.008\n",
      "RandomForestClassifier, params={'max_depth': 15, 'criterion': 'entropy', 'n_estimators': 20, 'max_features': 'sqrt'}, acc=0.964, std=0.008\n",
      "RandomForestClassifier, params={'max_depth': 15, 'criterion': 'entropy', 'n_estimators': 20, 'max_features': 'log2'}, acc=0.963, std=0.010\n",
      "RandomForestClassifier, params={'max_depth': 15, 'criterion': 'entropy', 'n_estimators': 20, 'max_features': None}, acc=0.949, std=0.015\n",
      "RandomForestClassifier, params={'max_depth': 15, 'criterion': 'entropy', 'n_estimators': 50, 'max_features': 'sqrt'}, acc=0.967, std=0.010\n",
      "RandomForestClassifier, params={'max_depth': 15, 'criterion': 'entropy', 'n_estimators': 50, 'max_features': 'log2'}, acc=0.965, std=0.010\n",
      "RandomForestClassifier, params={'max_depth': 15, 'criterion': 'entropy', 'n_estimators': 50, 'max_features': None}, acc=0.953, std=0.016\n",
      "RandomForestClassifier, params={'max_depth': 15, 'criterion': 'entropy', 'n_estimators': 100, 'max_features': 'sqrt'}, acc=0.966, std=0.007\n",
      "RandomForestClassifier, params={'max_depth': 15, 'criterion': 'entropy', 'n_estimators': 100, 'max_features': 'log2'}, acc=0.966, std=0.010\n",
      "RandomForestClassifier, params={'max_depth': 15, 'criterion': 'entropy', 'n_estimators': 100, 'max_features': None}, acc=0.948, std=0.014\n",
      "RandomForestClassifier, params={'max_depth': 15, 'criterion': 'gini', 'n_estimators': 10, 'max_features': 'sqrt'}, acc=0.951, std=0.009\n",
      "RandomForestClassifier, params={'max_depth': 15, 'criterion': 'gini', 'n_estimators': 10, 'max_features': 'log2'}, acc=0.944, std=0.011\n",
      "RandomForestClassifier, params={'max_depth': 15, 'criterion': 'gini', 'n_estimators': 10, 'max_features': None}, acc=0.943, std=0.012\n",
      "RandomForestClassifier, params={'max_depth': 15, 'criterion': 'gini', 'n_estimators': 20, 'max_features': 'sqrt'}, acc=0.959, std=0.008\n",
      "RandomForestClassifier, params={'max_depth': 15, 'criterion': 'gini', 'n_estimators': 20, 'max_features': 'log2'}, acc=0.960, std=0.007\n",
      "RandomForestClassifier, params={'max_depth': 15, 'criterion': 'gini', 'n_estimators': 20, 'max_features': None}, acc=0.950, std=0.008\n",
      "RandomForestClassifier, params={'max_depth': 15, 'criterion': 'gini', 'n_estimators': 50, 'max_features': 'sqrt'}, acc=0.964, std=0.011\n",
      "RandomForestClassifier, params={'max_depth': 15, 'criterion': 'gini', 'n_estimators': 50, 'max_features': 'log2'}, acc=0.966, std=0.009\n",
      "RandomForestClassifier, params={'max_depth': 15, 'criterion': 'gini', 'n_estimators': 50, 'max_features': None}, acc=0.954, std=0.012\n",
      "RandomForestClassifier, params={'max_depth': 15, 'criterion': 'gini', 'n_estimators': 100, 'max_features': 'sqrt'}, acc=0.966, std=0.007\n",
      "RandomForestClassifier, params={'max_depth': 15, 'criterion': 'gini', 'n_estimators': 100, 'max_features': 'log2'}, acc=0.964, std=0.009\n",
      "RandomForestClassifier, params={'max_depth': 15, 'criterion': 'gini', 'n_estimators': 100, 'max_features': None}, acc=0.954, std=0.011\n",
      "RandomForestClassifier, params={'max_depth': 20, 'criterion': 'entropy', 'n_estimators': 10, 'max_features': 'sqrt'}, acc=0.949, std=0.009\n",
      "RandomForestClassifier, params={'max_depth': 20, 'criterion': 'entropy', 'n_estimators': 10, 'max_features': 'log2'}, acc=0.951, std=0.013\n",
      "RandomForestClassifier, params={'max_depth': 20, 'criterion': 'entropy', 'n_estimators': 10, 'max_features': None}, acc=0.940, std=0.011\n",
      "RandomForestClassifier, params={'max_depth': 20, 'criterion': 'entropy', 'n_estimators': 20, 'max_features': 'sqrt'}, acc=0.957, std=0.009\n",
      "RandomForestClassifier, params={'max_depth': 20, 'criterion': 'entropy', 'n_estimators': 20, 'max_features': 'log2'}, acc=0.961, std=0.006\n",
      "RandomForestClassifier, params={'max_depth': 20, 'criterion': 'entropy', 'n_estimators': 20, 'max_features': None}, acc=0.946, std=0.011\n",
      "RandomForestClassifier, params={'max_depth': 20, 'criterion': 'entropy', 'n_estimators': 50, 'max_features': 'sqrt'}, acc=0.966, std=0.008\n",
      "RandomForestClassifier, params={'max_depth': 20, 'criterion': 'entropy', 'n_estimators': 50, 'max_features': 'log2'}, acc=0.966, std=0.005\n",
      "RandomForestClassifier, params={'max_depth': 20, 'criterion': 'entropy', 'n_estimators': 50, 'max_features': None}, acc=0.951, std=0.015\n",
      "RandomForestClassifier, params={'max_depth': 20, 'criterion': 'entropy', 'n_estimators': 100, 'max_features': 'sqrt'}, acc=0.967, std=0.005\n",
      "RandomForestClassifier, params={'max_depth': 20, 'criterion': 'entropy', 'n_estimators': 100, 'max_features': 'log2'}, acc=0.962, std=0.011\n",
      "RandomForestClassifier, params={'max_depth': 20, 'criterion': 'entropy', 'n_estimators': 100, 'max_features': None}, acc=0.950, std=0.013\n",
      "RandomForestClassifier, params={'max_depth': 20, 'criterion': 'gini', 'n_estimators': 10, 'max_features': 'sqrt'}, acc=0.954, std=0.010\n",
      "RandomForestClassifier, params={'max_depth': 20, 'criterion': 'gini', 'n_estimators': 10, 'max_features': 'log2'}, acc=0.949, std=0.006\n",
      "RandomForestClassifier, params={'max_depth': 20, 'criterion': 'gini', 'n_estimators': 10, 'max_features': None}, acc=0.946, std=0.007\n",
      "RandomForestClassifier, params={'max_depth': 20, 'criterion': 'gini', 'n_estimators': 20, 'max_features': 'sqrt'}, acc=0.961, std=0.009\n",
      "RandomForestClassifier, params={'max_depth': 20, 'criterion': 'gini', 'n_estimators': 20, 'max_features': 'log2'}, acc=0.966, std=0.013\n",
      "RandomForestClassifier, params={'max_depth': 20, 'criterion': 'gini', 'n_estimators': 20, 'max_features': None}, acc=0.951, std=0.011\n",
      "RandomForestClassifier, params={'max_depth': 20, 'criterion': 'gini', 'n_estimators': 50, 'max_features': 'sqrt'}, acc=0.964, std=0.009\n",
      "RandomForestClassifier, params={'max_depth': 20, 'criterion': 'gini', 'n_estimators': 50, 'max_features': 'log2'}, acc=0.963, std=0.005\n",
      "RandomForestClassifier, params={'max_depth': 20, 'criterion': 'gini', 'n_estimators': 50, 'max_features': None}, acc=0.952, std=0.015\n",
      "RandomForestClassifier, params={'max_depth': 20, 'criterion': 'gini', 'n_estimators': 100, 'max_features': 'sqrt'}, acc=0.964, std=0.008\n",
      "RandomForestClassifier, params={'max_depth': 20, 'criterion': 'gini', 'n_estimators': 100, 'max_features': 'log2'}, acc=0.967, std=0.009\n",
      "RandomForestClassifier, params={'max_depth': 20, 'criterion': 'gini', 'n_estimators': 100, 'max_features': None}, acc=0.955, std=0.010\n",
      "RandomForestClassifier, params={'max_depth': None, 'criterion': 'entropy', 'n_estimators': 10, 'max_features': 'sqrt'}, acc=0.944, std=0.008\n",
      "RandomForestClassifier, params={'max_depth': None, 'criterion': 'entropy', 'n_estimators': 10, 'max_features': 'log2'}, acc=0.951, std=0.002\n",
      "RandomForestClassifier, params={'max_depth': None, 'criterion': 'entropy', 'n_estimators': 10, 'max_features': None}, acc=0.943, std=0.013\n",
      "RandomForestClassifier, params={'max_depth': None, 'criterion': 'entropy', 'n_estimators': 20, 'max_features': 'sqrt'}, acc=0.957, std=0.015\n",
      "RandomForestClassifier, params={'max_depth': None, 'criterion': 'entropy', 'n_estimators': 20, 'max_features': 'log2'}, acc=0.959, std=0.006\n",
      "RandomForestClassifier, params={'max_depth': None, 'criterion': 'entropy', 'n_estimators': 20, 'max_features': None}, acc=0.949, std=0.015\n",
      "RandomForestClassifier, params={'max_depth': None, 'criterion': 'entropy', 'n_estimators': 50, 'max_features': 'sqrt'}, acc=0.964, std=0.006\n",
      "RandomForestClassifier, params={'max_depth': None, 'criterion': 'entropy', 'n_estimators': 50, 'max_features': 'log2'}, acc=0.966, std=0.010\n",
      "RandomForestClassifier, params={'max_depth': None, 'criterion': 'entropy', 'n_estimators': 50, 'max_features': None}, acc=0.946, std=0.016\n",
      "RandomForestClassifier, params={'max_depth': None, 'criterion': 'entropy', 'n_estimators': 100, 'max_features': 'sqrt'}, acc=0.968, std=0.009\n",
      "RandomForestClassifier, params={'max_depth': None, 'criterion': 'entropy', 'n_estimators': 100, 'max_features': 'log2'}, acc=0.966, std=0.007\n",
      "RandomForestClassifier, params={'max_depth': None, 'criterion': 'entropy', 'n_estimators': 100, 'max_features': None}, acc=0.952, std=0.016\n",
      "RandomForestClassifier, params={'max_depth': None, 'criterion': 'gini', 'n_estimators': 10, 'max_features': 'sqrt'}, acc=0.943, std=0.017\n",
      "RandomForestClassifier, params={'max_depth': None, 'criterion': 'gini', 'n_estimators': 10, 'max_features': 'log2'}, acc=0.953, std=0.007\n",
      "RandomForestClassifier, params={'max_depth': None, 'criterion': 'gini', 'n_estimators': 10, 'max_features': None}, acc=0.942, std=0.010\n",
      "RandomForestClassifier, params={'max_depth': None, 'criterion': 'gini', 'n_estimators': 20, 'max_features': 'sqrt'}, acc=0.959, std=0.008\n",
      "RandomForestClassifier, params={'max_depth': None, 'criterion': 'gini', 'n_estimators': 20, 'max_features': 'log2'}, acc=0.961, std=0.009\n",
      "RandomForestClassifier, params={'max_depth': None, 'criterion': 'gini', 'n_estimators': 20, 'max_features': None}, acc=0.953, std=0.008\n",
      "RandomForestClassifier, params={'max_depth': None, 'criterion': 'gini', 'n_estimators': 50, 'max_features': 'sqrt'}, acc=0.965, std=0.010\n",
      "RandomForestClassifier, params={'max_depth': None, 'criterion': 'gini', 'n_estimators': 50, 'max_features': 'log2'}, acc=0.965, std=0.010\n",
      "RandomForestClassifier, params={'max_depth': None, 'criterion': 'gini', 'n_estimators': 50, 'max_features': None}, acc=0.953, std=0.013\n",
      "RandomForestClassifier, params={'max_depth': None, 'criterion': 'gini', 'n_estimators': 100, 'max_features': 'sqrt'}, acc=0.963, std=0.008\n",
      "RandomForestClassifier, params={'max_depth': None, 'criterion': 'gini', 'n_estimators': 100, 'max_features': 'log2'}, acc=0.967, std=0.010\n",
      "RandomForestClassifier, params={'max_depth': None, 'criterion': 'gini', 'n_estimators': 100, 'max_features': None}, acc=0.954, std=0.013\n",
      "\n",
      "Best RandomForest params: {'max_depth': 20, 'criterion': 'entropy', 'n_estimators': 100, 'max_features': 'sqrt'}, acc=0.962\n",
      "Sklearn DecisionTree: 0.917\n",
      "Sklearn RandomForest: 0.968\n"
     ]
    }
   ],
   "source": [
    "best_dt_params_sk, best_dt_score_sk = kfold_search(DecisionTreeClassifier, X_train, y_train, dt_param_grid, k=5)\n",
    "print(f\"\\nBest DecisionTree params: {best_dt_params_sk}, acc={best_dt_score_sk:.3f}\")\n",
    "best_rf_params_sk, best_rf_score_sk = kfold_search(RandomForestClassifier, X_train, y_train, rf_param_grid, k=5)\n",
    "print(f\"\\nBest RandomForest params: {best_rf_params_sk}, acc={best_rf_score_sk:.3f}\")\n",
    "\n",
    "dt_sk = DecisionTreeClassifier(**best_dt_params_sk, random_state=42).fit(X_train, y_train)\n",
    "rf_sk = RandomForestClassifier(**best_rf_params_sk, random_state=42).fit(X_train, y_train)\n",
    "\n",
    "acc_dt_sk = accuracy_score(y_test, dt_sk.predict(X_test))\n",
    "acc_rf_sk = accuracy_score(y_test, rf_sk.predict(X_test))\n",
    "print(f\"Sklearn DecisionTree: {acc_dt_sk:.3f}\")\n",
    "print(f\"Sklearn RandomForest: {acc_rf_sk:.3f}\")"
   ],
   "metadata": {
    "collapsed": false,
    "ExecuteTime": {
     "end_time": "2025-09-15T23:01:53.353942Z",
     "start_time": "2025-09-15T23:01:07.516144Z"
    }
   },
   "execution_count": 15
  },
  {
   "cell_type": "code",
   "outputs": [
    {
     "name": "stdout",
     "output_type": "stream",
     "text": [
      "Sklearn DecisionTree with best params from my models: 0.917\n",
      "Sklearn RandomForest with best params from my models:: 0.968\n"
     ]
    }
   ],
   "source": [
    "dt_sk = DecisionTreeClassifier(**best_dt_params, random_state=42).fit(X_train, y_train)\n",
    "rf_sk = RandomForestClassifier(**best_rf_params, random_state=42).fit(X_train, y_train)\n",
    "acc_dt_sk2 = accuracy_score(y_test, dt_sk.predict(X_test))\n",
    "acc_rf_sk2 = accuracy_score(y_test, rf_sk.predict(X_test))\n",
    "print(f\"Sklearn DecisionTree with best params from my models: {acc_dt_sk:.3f}\")\n",
    "print(f\"Sklearn RandomForest with best params from my models:: {acc_rf_sk:.3f}\")"
   ],
   "metadata": {
    "collapsed": false,
    "ExecuteTime": {
     "end_time": "2025-09-15T23:08:35.516405Z",
     "start_time": "2025-09-15T23:08:35.141905Z"
    }
   },
   "execution_count": 21
  },
  {
   "cell_type": "code",
   "outputs": [],
   "source": [
    "def permutation_importance(model, X, y, metric, n_repeats=30, seed=42):\n",
    "    rng = np.random.default_rng(seed)\n",
    "\n",
    "    baseline_score = metric(y, model.predict(X))\n",
    "\n",
    "    n_features = X.shape[1]\n",
    "    importances = np.zeros(n_features)\n",
    "\n",
    "    for j in range(n_features):\n",
    "        scores = []\n",
    "        for _ in range(n_repeats):\n",
    "            X_permuted = X.copy()\n",
    "            rng.shuffle(X_permuted[:, j])  # permute feature j\n",
    "            score = metric(y, model.predict(X_permuted))\n",
    "            scores.append(score)\n",
    "        # Importance = drop in accuracy\n",
    "        importances[j] = baseline_score - np.mean(scores)\n",
    "\n",
    "    return importances"
   ],
   "metadata": {
    "collapsed": false,
    "ExecuteTime": {
     "end_time": "2025-09-15T22:58:12.130720Z",
     "start_time": "2025-09-15T22:58:12.036269Z"
    }
   },
   "execution_count": 11
  },
  {
   "cell_type": "code",
   "outputs": [
    {
     "data": {
      "text/plain": "<Figure size 640x480 with 1 Axes>",
      "image/png": "[encoded data removed]"
     },
     "metadata": {},
     "output_type": "display_data"
    }
   ],
   "source": [
    "importances = permutation_importance(final_rf, X_test, y_test, accuracy_score, n_repeats=30)\n",
    "\n",
    "plt.bar(range(len(importances)), importances)\n",
    "plt.xlabel(\"Feature index\")\n",
    "plt.ylabel(\"Importance (accuracy drop)\")\n",
    "plt.title(\"Permutation Feature Importance\")\n",
    "plt.show()"
   ],
   "metadata": {
    "collapsed": false,
    "ExecuteTime": {
     "end_time": "2025-09-15T22:59:37.175851Z",
     "start_time": "2025-09-15T22:59:13.495255Z"
    }
   },
   "execution_count": 14
  }
 ],
 "metadata": {
  "kernelspec": {
   "display_name": "INF264",
   "language": "python",
   "name": "python3"
  },
  "language_info": {
   "codemirror_mode": {
    "name": "ipython",
    "version": 3
   },
   "file_extension": ".py",
   "mimetype": "text/x-python",
   "name": "python",
   "nbconvert_exporter": "python",
   "pygments_lexer": "ipython3",
   "version": "3.12.3"
  }
 },
 "nbformat": 4,
 "nbformat_minor": 2
}
